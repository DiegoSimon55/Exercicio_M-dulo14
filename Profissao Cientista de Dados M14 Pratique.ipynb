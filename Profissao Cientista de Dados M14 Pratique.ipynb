{
 "cells": [
  {
   "cell_type": "markdown",
   "metadata": {
    "id": "oRsiqY067PIY"
   },
   "source": [
    "# **MÓDULO 14 - Exercício**\n",
    "# Pré Processamento dos Dados - A primeira etapa Pré Modelagem"
   ]
  },
  {
   "cell_type": "markdown",
   "metadata": {
    "id": "z_xy2WNB7Zil"
   },
   "source": [
    "Para nossa atividade usaremos uma base de churn também, porém essa base não diz respeito a serviços bancários e sim serviços de internet, telefone e tv - Telecomunicação.\n",
    "\n",
    "Vamos realizar aqui as etapas de limpeza e tratamento de dados vistos durante a aula, porém aplicados a essa base nova."
   ]
  },
  {
   "cell_type": "code",
   "execution_count": 3,
   "metadata": {
    "id": "JT5cIPR07GqI"
   },
   "outputs": [],
   "source": [
    "import seaborn as sns\n",
    "import matplotlib.pyplot as plt\n",
    "import pandas as pd"
   ]
  },
  {
   "cell_type": "code",
   "execution_count": 5,
   "metadata": {
    "colab": {
     "base_uri": "https://localhost:8080/",
     "height": 556
    },
    "id": "YpQybbwr76nX",
    "outputId": "a91f3127-9300-4604-9411-e0820215a03b"
   },
   "outputs": [
    {
     "data": {
      "text/html": [
       "<div>\n",
       "<style scoped>\n",
       "    .dataframe tbody tr th:only-of-type {\n",
       "        vertical-align: middle;\n",
       "    }\n",
       "\n",
       "    .dataframe tbody tr th {\n",
       "        vertical-align: top;\n",
       "    }\n",
       "\n",
       "    .dataframe thead th {\n",
       "        text-align: right;\n",
       "    }\n",
       "</style>\n",
       "<table border=\"1\" class=\"dataframe\">\n",
       "  <thead>\n",
       "    <tr style=\"text-align: right;\">\n",
       "      <th></th>\n",
       "      <th>customerID</th>\n",
       "      <th>Genero</th>\n",
       "      <th>Idoso</th>\n",
       "      <th>Casado</th>\n",
       "      <th>Dependents</th>\n",
       "      <th>Tempo_como_Cliente</th>\n",
       "      <th>PhoneService</th>\n",
       "      <th>Servico_Internet</th>\n",
       "      <th>Servico_Seguranca</th>\n",
       "      <th>Suporte_Tecnico</th>\n",
       "      <th>StreamingTV</th>\n",
       "      <th>Tipo_Contrato</th>\n",
       "      <th>PaymentMethod</th>\n",
       "      <th>Pagamento_Mensal</th>\n",
       "      <th>Total_Pago</th>\n",
       "      <th>Churn</th>\n",
       "    </tr>\n",
       "  </thead>\n",
       "  <tbody>\n",
       "    <tr>\n",
       "      <th>0</th>\n",
       "      <td>7590-VHVEG</td>\n",
       "      <td>Female</td>\n",
       "      <td>0</td>\n",
       "      <td>Yes</td>\n",
       "      <td>No</td>\n",
       "      <td>1</td>\n",
       "      <td>No</td>\n",
       "      <td>DSL</td>\n",
       "      <td>No</td>\n",
       "      <td>No</td>\n",
       "      <td>No</td>\n",
       "      <td>Month-to-month</td>\n",
       "      <td>Electronic check</td>\n",
       "      <td>29.85</td>\n",
       "      <td>29.85</td>\n",
       "      <td>No</td>\n",
       "    </tr>\n",
       "    <tr>\n",
       "      <th>1</th>\n",
       "      <td>5575-GNVDE</td>\n",
       "      <td>Male</td>\n",
       "      <td>0</td>\n",
       "      <td>No</td>\n",
       "      <td>No</td>\n",
       "      <td>34</td>\n",
       "      <td>Yes</td>\n",
       "      <td>DSL</td>\n",
       "      <td>Yes</td>\n",
       "      <td>No</td>\n",
       "      <td>No</td>\n",
       "      <td>One year</td>\n",
       "      <td>Mailed check</td>\n",
       "      <td>56.95</td>\n",
       "      <td>1889.50</td>\n",
       "      <td>No</td>\n",
       "    </tr>\n",
       "    <tr>\n",
       "      <th>2</th>\n",
       "      <td>3668-QPYBK</td>\n",
       "      <td>Male</td>\n",
       "      <td>0</td>\n",
       "      <td>No</td>\n",
       "      <td>No</td>\n",
       "      <td>2</td>\n",
       "      <td>Yes</td>\n",
       "      <td>DSL</td>\n",
       "      <td>Yes</td>\n",
       "      <td>No</td>\n",
       "      <td>No</td>\n",
       "      <td>Month-to-month</td>\n",
       "      <td>Mailed check</td>\n",
       "      <td>53.85</td>\n",
       "      <td>108.15</td>\n",
       "      <td>Yes</td>\n",
       "    </tr>\n",
       "    <tr>\n",
       "      <th>3</th>\n",
       "      <td>7795-CFOCW</td>\n",
       "      <td>Male</td>\n",
       "      <td>0</td>\n",
       "      <td>No</td>\n",
       "      <td>No</td>\n",
       "      <td>45</td>\n",
       "      <td>No</td>\n",
       "      <td>DSL</td>\n",
       "      <td>Yes</td>\n",
       "      <td>Yes</td>\n",
       "      <td>No</td>\n",
       "      <td>One year</td>\n",
       "      <td>Bank transfer (automatic)</td>\n",
       "      <td>NaN</td>\n",
       "      <td>1840.75</td>\n",
       "      <td>No</td>\n",
       "    </tr>\n",
       "    <tr>\n",
       "      <th>4</th>\n",
       "      <td>9237-HQITU</td>\n",
       "      <td>NaN</td>\n",
       "      <td>0</td>\n",
       "      <td>No</td>\n",
       "      <td>No</td>\n",
       "      <td>2</td>\n",
       "      <td>Yes</td>\n",
       "      <td>Fiber optic</td>\n",
       "      <td>No</td>\n",
       "      <td>No</td>\n",
       "      <td>No</td>\n",
       "      <td>Month-to-month</td>\n",
       "      <td>Electronic check</td>\n",
       "      <td>NaN</td>\n",
       "      <td>151.65</td>\n",
       "      <td>Yes</td>\n",
       "    </tr>\n",
       "    <tr>\n",
       "      <th>5</th>\n",
       "      <td>9305-CDSKC</td>\n",
       "      <td>NaN</td>\n",
       "      <td>0</td>\n",
       "      <td>No</td>\n",
       "      <td>No</td>\n",
       "      <td>8</td>\n",
       "      <td>Yes</td>\n",
       "      <td>Fiber optic</td>\n",
       "      <td>No</td>\n",
       "      <td>No</td>\n",
       "      <td>Yes</td>\n",
       "      <td>Month-to-month</td>\n",
       "      <td>Electronic check</td>\n",
       "      <td>NaN</td>\n",
       "      <td>820.50</td>\n",
       "      <td>NaN</td>\n",
       "    </tr>\n",
       "    <tr>\n",
       "      <th>6</th>\n",
       "      <td>1452-KIOVK</td>\n",
       "      <td>NaN</td>\n",
       "      <td>0</td>\n",
       "      <td>No</td>\n",
       "      <td>Yes</td>\n",
       "      <td>22</td>\n",
       "      <td>Yes</td>\n",
       "      <td>Fiber optic</td>\n",
       "      <td>No</td>\n",
       "      <td>No</td>\n",
       "      <td>Yes</td>\n",
       "      <td>Month-to-month</td>\n",
       "      <td>Credit card (automatic)</td>\n",
       "      <td>NaN</td>\n",
       "      <td>1949.40</td>\n",
       "      <td>NaN</td>\n",
       "    </tr>\n",
       "    <tr>\n",
       "      <th>7</th>\n",
       "      <td>6713-OKOMC</td>\n",
       "      <td>NaN</td>\n",
       "      <td>0</td>\n",
       "      <td>No</td>\n",
       "      <td>No</td>\n",
       "      <td>10</td>\n",
       "      <td>No</td>\n",
       "      <td>DSL</td>\n",
       "      <td>Yes</td>\n",
       "      <td>No</td>\n",
       "      <td>No</td>\n",
       "      <td>Month-to-month</td>\n",
       "      <td>Mailed check</td>\n",
       "      <td>NaN</td>\n",
       "      <td>301.90</td>\n",
       "      <td>NaN</td>\n",
       "    </tr>\n",
       "    <tr>\n",
       "      <th>8</th>\n",
       "      <td>7892-POOKP</td>\n",
       "      <td>NaN</td>\n",
       "      <td>0</td>\n",
       "      <td>Yes</td>\n",
       "      <td>No</td>\n",
       "      <td>28</td>\n",
       "      <td>Yes</td>\n",
       "      <td>Fiber optic</td>\n",
       "      <td>No</td>\n",
       "      <td>Yes</td>\n",
       "      <td>Yes</td>\n",
       "      <td>Month-to-month</td>\n",
       "      <td>Electronic check</td>\n",
       "      <td>NaN</td>\n",
       "      <td>3046.05</td>\n",
       "      <td>NaN</td>\n",
       "    </tr>\n",
       "    <tr>\n",
       "      <th>9</th>\n",
       "      <td>6388-TABGU</td>\n",
       "      <td>NaN</td>\n",
       "      <td>0</td>\n",
       "      <td>No</td>\n",
       "      <td>Yes</td>\n",
       "      <td>62</td>\n",
       "      <td>Yes</td>\n",
       "      <td>dsl</td>\n",
       "      <td>Yes</td>\n",
       "      <td>No</td>\n",
       "      <td>No</td>\n",
       "      <td>One year</td>\n",
       "      <td>Bank transfer (automatic)</td>\n",
       "      <td>NaN</td>\n",
       "      <td>3487.95</td>\n",
       "      <td>NaN</td>\n",
       "    </tr>\n",
       "  </tbody>\n",
       "</table>\n",
       "</div>"
      ],
      "text/plain": [
       "   customerID  Genero  Idoso Casado Dependents  Tempo_como_Cliente  \\\n",
       "0  7590-VHVEG  Female      0    Yes         No                   1   \n",
       "1  5575-GNVDE    Male      0     No         No                  34   \n",
       "2  3668-QPYBK    Male      0     No         No                   2   \n",
       "3  7795-CFOCW    Male      0     No         No                  45   \n",
       "4  9237-HQITU     NaN      0     No         No                   2   \n",
       "5  9305-CDSKC     NaN      0     No         No                   8   \n",
       "6  1452-KIOVK     NaN      0     No        Yes                  22   \n",
       "7  6713-OKOMC     NaN      0     No         No                  10   \n",
       "8  7892-POOKP     NaN      0    Yes         No                  28   \n",
       "9  6388-TABGU     NaN      0     No        Yes                  62   \n",
       "\n",
       "  PhoneService Servico_Internet Servico_Seguranca Suporte_Tecnico StreamingTV  \\\n",
       "0           No              DSL                No              No          No   \n",
       "1          Yes              DSL               Yes              No          No   \n",
       "2          Yes              DSL               Yes              No          No   \n",
       "3           No              DSL               Yes             Yes          No   \n",
       "4          Yes      Fiber optic                No              No          No   \n",
       "5          Yes      Fiber optic                No              No         Yes   \n",
       "6          Yes      Fiber optic                No              No         Yes   \n",
       "7           No              DSL               Yes              No          No   \n",
       "8          Yes      Fiber optic                No             Yes         Yes   \n",
       "9          Yes              dsl               Yes              No          No   \n",
       "\n",
       "    Tipo_Contrato              PaymentMethod  Pagamento_Mensal  Total_Pago  \\\n",
       "0  Month-to-month           Electronic check             29.85       29.85   \n",
       "1        One year               Mailed check             56.95     1889.50   \n",
       "2  Month-to-month               Mailed check             53.85      108.15   \n",
       "3        One year  Bank transfer (automatic)               NaN     1840.75   \n",
       "4  Month-to-month           Electronic check               NaN      151.65   \n",
       "5  Month-to-month           Electronic check               NaN      820.50   \n",
       "6  Month-to-month    Credit card (automatic)               NaN     1949.40   \n",
       "7  Month-to-month               Mailed check               NaN      301.90   \n",
       "8  Month-to-month           Electronic check               NaN     3046.05   \n",
       "9        One year  Bank transfer (automatic)               NaN     3487.95   \n",
       "\n",
       "  Churn  \n",
       "0    No  \n",
       "1    No  \n",
       "2   Yes  \n",
       "3    No  \n",
       "4   Yes  \n",
       "5   NaN  \n",
       "6   NaN  \n",
       "7   NaN  \n",
       "8   NaN  \n",
       "9   NaN  "
      ]
     },
     "execution_count": 5,
     "metadata": {},
     "output_type": "execute_result"
    }
   ],
   "source": [
    "#Lembrem-se sempre de alterar a importação dos dados de acordo com o diretório de vocês.\n",
    "df = pd.read_csv(\"CHURN_TELECON_MOD08_TAREFA.csv\", delimiter=';')\n",
    "\n",
    "df.head(10)"
   ]
  },
  {
   "cell_type": "markdown",
   "metadata": {
    "id": "-Cmll45c8TGu"
   },
   "source": [
    "Legenda dos dados:\n",
    "\n",
    "*   **CustomerID** : Esse é o ID único de cada cliente nosso da rede de produtos de telecomunicação.\n",
    "\n",
    "*   **Genero** : O genero dos nossos clientes.\n",
    "\n",
    "*   **Idoso** : Se nosso cliente tem acima de 60 anos ou não. (Sim = 1 | Não = 0)\n",
    "\n",
    "*   **Casado** : Se nosso cliente é casado ou não.\n",
    "\n",
    "*   **Dependents** : Se cliente tem dependentes.\n",
    "\n",
    "*   **Tempo_como_Cliente** : Tempo em meses que nosso cliente está com a nossa empresa.\n",
    "\n",
    "*   **PhoneService** : Se ele contratou serviço telefônico com a nossa empresa.\n",
    "\n",
    "*   **Servico_Internet** : Qual o tipo de serviço de internet contratado.\n",
    "\n",
    "*   **Servico_Seguranca** : Se ele contratou serviço de segurança com a nossa empresa.\n",
    "\n",
    "*   **Suporte_Tecnico** : Se já acionou o suporte técnico.\n",
    "\n",
    "*   **StreamingTV** : Se ele contratou serviço de streaming para TV.\n",
    "\n",
    "*   **Tipo_Contrato** : Qual o tipo de contrato dos nossos clientes, se era mensal, anual etc.\n",
    "\n",
    "*   **Tipo_Contrato** : Qual o tipo de contrato dos nossos clientes, se era mensal, anual etc.\n",
    "\n",
    "*   **PaymentMethod** : Forma de Pagamento.\n",
    "\n",
    "*   **Pagamento_Mensal** : Quanto o cliente pagava mensalmente.\n",
    "\n",
    "*   **Total_Pago** : Total já pago pelo cliente para nossa companhia.\n",
    "\n",
    "*   **Churn** : Nossa coluna mais importante, se nosso cliente nos abandonou ou não.\n",
    "\n",
    "\n"
   ]
  },
  {
   "cell_type": "markdown",
   "metadata": {
    "id": "2aZL5edn-Sxy"
   },
   "source": [
    "# 1 - Carregue a base, verifique se os tipos de dados estão de acordo com cada coluna e caso não estejam realize a transformação dos tipos de dados."
   ]
  },
  {
   "cell_type": "code",
   "execution_count": 7,
   "metadata": {
    "id": "uVbeG6vJ-ao3"
   },
   "outputs": [
    {
     "data": {
      "text/plain": [
       "customerID             object\n",
       "Genero                 object\n",
       "Idoso                   int64\n",
       "Casado                 object\n",
       "Dependents             object\n",
       "Tempo_como_Cliente      int64\n",
       "PhoneService           object\n",
       "Servico_Internet       object\n",
       "Servico_Seguranca      object\n",
       "Suporte_Tecnico        object\n",
       "StreamingTV            object\n",
       "Tipo_Contrato          object\n",
       "PaymentMethod          object\n",
       "Pagamento_Mensal      float64\n",
       "Total_Pago            float64\n",
       "Churn                  object\n",
       "dtype: object"
      ]
     },
     "execution_count": 7,
     "metadata": {},
     "output_type": "execute_result"
    }
   ],
   "source": [
    "#Verificação de tipo de dado de cada coluna\n",
    "df.dtypes"
   ]
  },
  {
   "cell_type": "markdown",
   "metadata": {
    "id": "cu4kjiXn_w9t"
   },
   "source": [
    "# 2 - Esse exercício faremos por etapas:\n",
    "A) Verifique se temos colunas com dados faltantes e traga a % dos dados faltantes por coluna."
   ]
  },
  {
   "cell_type": "code",
   "execution_count": 9,
   "metadata": {
    "id": "nNYLgakRDPr2"
   },
   "outputs": [
    {
     "data": {
      "text/plain": [
       "customerID             0.00\n",
       "Genero                 0.48\n",
       "Idoso                  0.00\n",
       "Casado                 0.00\n",
       "Dependents             0.00\n",
       "Tempo_como_Cliente     0.00\n",
       "PhoneService          59.28\n",
       "Servico_Internet       0.00\n",
       "Servico_Seguranca      0.00\n",
       "Suporte_Tecnico        0.00\n",
       "StreamingTV            0.00\n",
       "Tipo_Contrato          0.00\n",
       "PaymentMethod          0.00\n",
       "Pagamento_Mensal      13.00\n",
       "Total_Pago             0.00\n",
       "Churn                  0.20\n",
       "dtype: float64"
      ]
     },
     "execution_count": 9,
     "metadata": {},
     "output_type": "execute_result"
    }
   ],
   "source": [
    "#Verificação de valores nulos por coluna\n",
    "(df.isnull().sum() / len(df)) * 100"
   ]
  },
  {
   "cell_type": "markdown",
   "metadata": {
    "id": "HzzZHCVO_8b9"
   },
   "source": [
    "B) Exclua nessa etapa as linhas das colunas com dados faltantes que você analisar que esse método é o ideal. Justifique o motivo de estar excluindo essas linhas."
   ]
  },
  {
   "cell_type": "code",
   "execution_count": 11,
   "metadata": {
    "id": "bDZTgNy8ECwu"
   },
   "outputs": [],
   "source": [
    "#Excluindo coluna 'Genero' Motivo: Pelo fato de representar muito pouco dentro da base de dados, e não ter a importância necessária para o que estamos\n",
    "#tentando descobrir com esse tratamento de dados\n",
    "df.dropna(subset=['Genero'], inplace=True)"
   ]
  },
  {
   "cell_type": "markdown",
   "metadata": {
    "id": "plAEzGoMAP16"
   },
   "source": [
    "C) Nessa etapa substitua pela média, mediana ou moda as linhas das colunas com valores faltantes que você analisou e entendeu que esse era o melhor método. Não se esqueça de justificar sua escolha."
   ]
  },
  {
   "cell_type": "markdown",
   "metadata": {
    "id": "9S7O7GzoEevG"
   },
   "source": [
    "**Dica variáveis numéricas:** Não se esqueça de verificar a distrbuição dos dados, média e mediana."
   ]
  },
  {
   "cell_type": "markdown",
   "metadata": {
    "id": "MuhfrNV5FGDY"
   },
   "source": [
    "**Dica variáveis categóricas:** Caso precise substituir uma variável categórica utilize um gráfico de barras para verificar a que mais aparece e utilizar ela na substituição.\n",
    "Ou você pode optar por excluir a coluna, mas justifique sua escolha.\n",
    "\n",
    "Caso opte por substituir você pode utilizar a função fillna:\n",
    "df['SUACOLUNA'].fillna(\"VALOR QUE SUBSTITUIRA O NULO\", inplace=True)\n",
    "Ela funcionará como a replace."
   ]
  },
  {
   "cell_type": "code",
   "execution_count": 13,
   "metadata": {
    "id": "f9xdpik_ERw1"
   },
   "outputs": [],
   "source": [
    "# Justificativa: Fazendo uma análise através do comando, consegui constatar que o 'yes' é o que mais aparece na tabela, o que também constatei\n",
    "# olhando a tabela no excel, então decidi por usar o 'yes' já que tinha muito linhas preenchidas com essa opção, partindo da ideia de que a maioria dos\n",
    "# campos que estão vazios, também estariam preenchidos com 'yes'.\n",
    "\n",
    "# Substituindo os dados faltantes da coluna 'PhoneService' \n",
    "df['PhoneService'].mode()\n",
    "df['PhoneService'] = df['PhoneService'].mode()[0]"
   ]
  },
  {
   "cell_type": "code",
   "execution_count": 15,
   "metadata": {},
   "outputs": [
    {
     "data": {
      "text/plain": [
       "65.60756321839081"
      ]
     },
     "execution_count": 15,
     "metadata": {},
     "output_type": "execute_result"
    }
   ],
   "source": [
    "# Substituindo os dados faltantes da coluna 'Pagamento_Mensal'\n",
    "df['Pagamento_Mensal'].mean()"
   ]
  },
  {
   "cell_type": "code",
   "execution_count": 17,
   "metadata": {},
   "outputs": [
    {
     "data": {
      "text/plain": [
       "71.45"
      ]
     },
     "execution_count": 17,
     "metadata": {},
     "output_type": "execute_result"
    }
   ],
   "source": [
    "df['Pagamento_Mensal'].median()"
   ]
  },
  {
   "cell_type": "code",
   "execution_count": 19,
   "metadata": {},
   "outputs": [
    {
     "data": {
      "image/png": "[encoded data removed]",
      "text/plain": [
       "<Figure size 800x600 with 1 Axes>"
      ]
     },
     "metadata": {},
     "output_type": "display_data"
    }
   ],
   "source": [
    "# Gráfico de Boxplot para verificar a presença de Outliers\n",
    "sns.set_style('whitegrid')\n",
    "\n",
    "plt.figure(figsize=(8, 6))\n",
    "sns.boxplot(data=df, y='Pagamento_Mensal', color='skyblue')\n",
    "plt.title('Boxplot da Coluna de Pagamento Mensal')\n",
    "plt.ylabel('Pagamento_Mensal')\n",
    "plt.show()"
   ]
  },
  {
   "cell_type": "markdown",
   "metadata": {
    "id": "KyM7bzIWAevH"
   },
   "source": [
    "# 3 - Verifique se encontramos valores digitados incorretamente, ou com letras maiusculas ou minusculas, ou até mesmo mesmos valores porém escritos de forma dirente e corrija."
   ]
  },
  {
   "cell_type": "code",
   "execution_count": 21,
   "metadata": {
    "id": "pBLJpzXXGTcq"
   },
   "outputs": [
    {
     "name": "stdout",
     "output_type": "stream",
     "text": [
      "Coluna: customerID\n",
      "Valores únicos: ['7590-VHVEG' '5575-GNVDE' '3668-QPYBK' ... '5702-SKUOB' '1134-YWTYF'\n",
      " '6061-GWWAV']\n",
      "--------------------------------------------------\n",
      "Coluna: Genero\n",
      "Valores únicos: ['Female' 'Male' 'F' 'M' 'f']\n",
      "--------------------------------------------------\n",
      "Coluna: Casado\n",
      "Valores únicos: ['Yes' 'No']\n",
      "--------------------------------------------------\n",
      "Coluna: Dependents\n",
      "Valores únicos: ['No' 'Yes']\n",
      "--------------------------------------------------\n",
      "Coluna: PhoneService\n",
      "Valores únicos: ['Yes']\n",
      "--------------------------------------------------\n",
      "Coluna: Servico_Internet\n",
      "Valores únicos: ['DSL' 'No' 'Fiber optic' 'dsl']\n",
      "--------------------------------------------------\n",
      "Coluna: Servico_Seguranca\n",
      "Valores únicos: ['No' 'Yes' 'No internet service']\n",
      "--------------------------------------------------\n",
      "Coluna: Suporte_Tecnico\n",
      "Valores únicos: ['No' 'Yes' 'No internet service']\n",
      "--------------------------------------------------\n",
      "Coluna: StreamingTV\n",
      "Valores únicos: ['No' 'No internet service' 'Yes']\n",
      "--------------------------------------------------\n",
      "Coluna: Tipo_Contrato\n",
      "Valores únicos: ['Month-to-month' 'One year' 'Two year']\n",
      "--------------------------------------------------\n",
      "Coluna: PaymentMethod\n",
      "Valores únicos: ['Electronic check' 'Mailed check' 'Bank transfer (automatic)'\n",
      " 'Credit card (automatic)']\n",
      "--------------------------------------------------\n",
      "Coluna: Churn\n",
      "Valores únicos: ['No' 'Yes']\n",
      "--------------------------------------------------\n"
     ]
    }
   ],
   "source": [
    "# Verifica valores únicos em colunas \n",
    "categorical_columns = df.select_dtypes(include=['object']).columns\n",
    "unique_values = {col: df[col].unique() for col in categorical_columns}\n",
    "\n",
    "# Exibi valores únicos\n",
    "for col, values in unique_values.items():\n",
    "    print(f\"Coluna: {col}\")\n",
    "    print(f\"Valores únicos: {values}\")\n",
    "    print('-' * 50)\n"
   ]
  },
  {
   "cell_type": "code",
   "execution_count": 23,
   "metadata": {},
   "outputs": [
    {
     "name": "stdout",
     "output_type": "stream",
     "text": [
      "Coluna com inconsistências: Genero\n",
      "Valores encontrados: ['Female' 'Male' 'F' 'M' 'f']\n",
      "--------------------------------------------------\n",
      "Coluna com inconsistências: Servico_Internet\n",
      "Valores encontrados: ['DSL' 'No' 'Fiber optic' 'dsl']\n",
      "--------------------------------------------------\n"
     ]
    }
   ],
   "source": [
    "# Verifica inconsistências \n",
    "inconsistent_values = {}\n",
    "for col in categorical_columns:\n",
    "    lower_values = df[col].dropna().str.lower().unique()  # Valores normalizados\n",
    "    if len(lower_values) != len(df[col].dropna().unique()):  # Se forem diferentes\n",
    "        inconsistent_values[col] = df[col].unique()\n",
    "\n",
    "# Exibir inconsistências\n",
    "for col, values in inconsistent_values.items():\n",
    "    print(f\"Coluna com inconsistências: {col}\")\n",
    "    print(f\"Valores encontrados: {values}\")\n",
    "    print('-' * 50)\n"
   ]
  },
  {
   "cell_type": "code",
   "execution_count": 27,
   "metadata": {},
   "outputs": [],
   "source": [
    "# Identifica valores iguais, escritos de formas diferente\n",
    "def check_duplicates(df, column):\n",
    "    normalized = df[column].dropna().str.lower().str.strip()  # Normaliza valores\n",
    "    return df[column][~df[column].str.lower().str.strip().isin(normalized.unique())]\n",
    "\n",
    "# Analisa duplicações por coluna\n",
    "for col in categorical_columns:\n",
    "    duplicates = check_duplicates(df, col)\n",
    "    if not duplicates.empty:\n",
    "        print(f\"Coluna: {col}\")\n",
    "        print(f\"Duplicaçōes semânticas encontradas: {duplicates.unique()}\")\n",
    "        print('-' * 50)\n"
   ]
  },
  {
   "cell_type": "code",
   "execution_count": 29,
   "metadata": {},
   "outputs": [
    {
     "data": {
      "text/plain": [
       "{'customerID': array(['7590-vhveg', '5575-gnvde', '3668-qpybk', ..., '5702-skuob',\n",
       "        '1134-ywtyf', '6061-gwwav'], dtype=object),\n",
       " 'Genero': array(['Female', 'Male'], dtype=object),\n",
       " 'Casado': array(['Yes', 'No'], dtype=object),\n",
       " 'Dependents': array(['No', 'Yes'], dtype=object),\n",
       " 'PhoneService': array(['Yes'], dtype=object),\n",
       " 'Servico_Internet': array(['Dsl', 'No', 'Fiber optic'], dtype=object),\n",
       " 'Servico_Seguranca': array(['No', 'Yes', 'No internet service'], dtype=object),\n",
       " 'Suporte_Tecnico': array(['No', 'Yes', 'No internet service'], dtype=object),\n",
       " 'StreamingTV': array(['No', 'No internet service', 'Yes'], dtype=object),\n",
       " 'Tipo_Contrato': array(['Month-to-month', 'One year', 'Two year'], dtype=object),\n",
       " 'PaymentMethod': array(['Electronic check', 'Mailed check', 'Bank transfer (automatic)',\n",
       "        'Credit card (automatic)'], dtype=object),\n",
       " 'Churn': array(['No', 'Yes'], dtype=object)}"
      ]
     },
     "execution_count": 29,
     "metadata": {},
     "output_type": "execute_result"
    }
   ],
   "source": [
    "# Correção de inconsistências nas colunas categóricas\n",
    "df['Genero'] = df['Genero'].str.strip().str.capitalize().replace({'F': 'Female', 'M': 'Male', 'f': 'Female'})\n",
    "df['Servico_Internet'] = df['Servico_Internet'].str.strip().str.capitalize()\n",
    "\n",
    "# Aplica a uniformização de capitalização a todas as colunas categóricas\n",
    "for col in categorical_columns:\n",
    "    df[col] = df[col].astype(str).str.strip().str.capitalize()\n",
    "\n",
    "# Exibir os valores únicos corrigidos para validação\n",
    "corrected_values = {col: df[col].unique() for col in categorical_columns}\n",
    "corrected_values\n"
   ]
  },
  {
   "cell_type": "markdown",
   "metadata": {
    "id": "C-2vJktpA0r7"
   },
   "source": [
    "# [EXTRA] 4 - Caso deseje, para manter um padrão na sua base, renomeie as colunas ou deixand"
   ]
  }
 ],
 "metadata": {
  "colab": {
   "provenance": []
  },
  "kernelspec": {
   "display_name": "Python 3 (ipykernel)",
   "language": "python",
   "name": "python3"
  },
  "language_info": {
   "codemirror_mode": {
    "name": "ipython",
    "version": 3
   },
   "file_extension": ".py",
   "mimetype": "text/x-python",
   "name": "python",
   "nbconvert_exporter": "python",
   "pygments_lexer": "ipython3",
   "version": "3.12.4"
  }
 },
 "nbformat": 4,
 "nbformat_minor": 4
}
